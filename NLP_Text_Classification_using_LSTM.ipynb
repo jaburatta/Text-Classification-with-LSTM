{
  "nbformat": 4,
  "nbformat_minor": 0,
  "metadata": {
    "colab": {
      "name": "NLP-Text Classification using LSTM.ipynb",
      "provenance": [],
      "collapsed_sections": []
    },
    "kernelspec": {
      "name": "python3",
      "display_name": "Python 3"
    },
    "accelerator": "GPU"
  },
  "cells": [
    {
      "cell_type": "code",
      "metadata": {
        "id": "-4BPTcc1gf57",
        "colab_type": "code",
        "colab": {}
      },
      "source": [
        "import os\n",
        "import pandas as pd\n",
        "import numpy as np\n",
        "import nltk"
      ],
      "execution_count": 1,
      "outputs": []
    },
    {
      "cell_type": "code",
      "metadata": {
        "id": "_NgQzPV5kbdm",
        "colab_type": "code",
        "colab": {
          "base_uri": "https://localhost:8080/",
          "height": 102
        },
        "outputId": "50296fdc-85ec-40da-eabc-715a47748662"
      },
      "source": [
        "nltk.download('stopwords')\n",
        "nltk.download('punkt')"
      ],
      "execution_count": 2,
      "outputs": [
        {
          "output_type": "stream",
          "text": [
            "[nltk_data] Downloading package stopwords to /root/nltk_data...\n",
            "[nltk_data]   Package stopwords is already up-to-date!\n",
            "[nltk_data] Downloading package punkt to /root/nltk_data...\n",
            "[nltk_data]   Package punkt is already up-to-date!\n"
          ],
          "name": "stdout"
        },
        {
          "output_type": "execute_result",
          "data": {
            "text/plain": [
              "True"
            ]
          },
          "metadata": {
            "tags": []
          },
          "execution_count": 2
        }
      ]
    },
    {
      "cell_type": "code",
      "metadata": {
        "id": "4aNIW3_fvqb2",
        "colab_type": "code",
        "colab": {}
      },
      "source": [
        "path = \"/content/drive/My Drive/NLP dataset\""
      ],
      "execution_count": 3,
      "outputs": []
    },
    {
      "cell_type": "code",
      "metadata": {
        "id": "GvMqvwoJvqZg",
        "colab_type": "code",
        "colab": {
          "base_uri": "https://localhost:8080/",
          "height": 34
        },
        "outputId": "671e8bf3-f8aa-4cce-bbc9-3e472cc76a16"
      },
      "source": [
        "os.listdir(path)"
      ],
      "execution_count": 4,
      "outputs": [
        {
          "output_type": "execute_result",
          "data": {
            "text/plain": [
              "['Test.csv', 'Train.csv', 'SampleSubmission.csv']"
            ]
          },
          "metadata": {
            "tags": []
          },
          "execution_count": 4
        }
      ]
    },
    {
      "cell_type": "code",
      "metadata": {
        "id": "PEBhhpY2vqVu",
        "colab_type": "code",
        "colab": {}
      },
      "source": [
        "Train_data = '/content/drive/My Drive/NLP dataset/Train.csv'\n",
        "Test_data = '/content/drive/My Drive/NLP dataset/Test.csv'"
      ],
      "execution_count": 5,
      "outputs": []
    },
    {
      "cell_type": "code",
      "metadata": {
        "id": "z-xfQADWv8WD",
        "colab_type": "code",
        "colab": {}
      },
      "source": [
        "train_data = pd.read_csv(Train_data)"
      ],
      "execution_count": 6,
      "outputs": []
    },
    {
      "cell_type": "code",
      "metadata": {
        "id": "d6ieagY9fZ-E",
        "colab_type": "code",
        "colab": {
          "base_uri": "https://localhost:8080/",
          "height": 204
        },
        "outputId": "79455dd1-775a-41a5-b990-baa9b9b0f177"
      },
      "source": [
        "train_data.head()"
      ],
      "execution_count": 7,
      "outputs": [
        {
          "output_type": "execute_result",
          "data": {
            "text/html": [
              "<div>\n",
              "<style scoped>\n",
              "    .dataframe tbody tr th:only-of-type {\n",
              "        vertical-align: middle;\n",
              "    }\n",
              "\n",
              "    .dataframe tbody tr th {\n",
              "        vertical-align: top;\n",
              "    }\n",
              "\n",
              "    .dataframe thead th {\n",
              "        text-align: right;\n",
              "    }\n",
              "</style>\n",
              "<table border=\"1\" class=\"dataframe\">\n",
              "  <thead>\n",
              "    <tr style=\"text-align: right;\">\n",
              "      <th></th>\n",
              "      <th>ID</th>\n",
              "      <th>text</th>\n",
              "      <th>label</th>\n",
              "    </tr>\n",
              "  </thead>\n",
              "  <tbody>\n",
              "    <tr>\n",
              "      <th>0</th>\n",
              "      <td>SUAVK39Z</td>\n",
              "      <td>I feel that it was better I dieAm happy</td>\n",
              "      <td>Depression</td>\n",
              "    </tr>\n",
              "    <tr>\n",
              "      <th>1</th>\n",
              "      <td>9JDAGUV3</td>\n",
              "      <td>Why do I get hallucinations?</td>\n",
              "      <td>Drugs</td>\n",
              "    </tr>\n",
              "    <tr>\n",
              "      <th>2</th>\n",
              "      <td>419WR1LQ</td>\n",
              "      <td>I am stresseed due to lack of financial suppor...</td>\n",
              "      <td>Depression</td>\n",
              "    </tr>\n",
              "    <tr>\n",
              "      <th>3</th>\n",
              "      <td>6UY7DX6Q</td>\n",
              "      <td>Why is life important?</td>\n",
              "      <td>Suicide</td>\n",
              "    </tr>\n",
              "    <tr>\n",
              "      <th>4</th>\n",
              "      <td>FYC0FTFB</td>\n",
              "      <td>How could I be helped to go through the depres...</td>\n",
              "      <td>Depression</td>\n",
              "    </tr>\n",
              "  </tbody>\n",
              "</table>\n",
              "</div>"
            ],
            "text/plain": [
              "         ID                                               text       label\n",
              "0  SUAVK39Z            I feel that it was better I dieAm happy  Depression\n",
              "1  9JDAGUV3                       Why do I get hallucinations?       Drugs\n",
              "2  419WR1LQ  I am stresseed due to lack of financial suppor...  Depression\n",
              "3  6UY7DX6Q                             Why is life important?     Suicide\n",
              "4  FYC0FTFB  How could I be helped to go through the depres...  Depression"
            ]
          },
          "metadata": {
            "tags": []
          },
          "execution_count": 7
        }
      ]
    },
    {
      "cell_type": "code",
      "metadata": {
        "id": "LEXk3lKCpVr4",
        "colab_type": "code",
        "colab": {
          "base_uri": "https://localhost:8080/",
          "height": 35
        },
        "outputId": "e7ea1272-fbd2-47f8-a320-f8711bb0468a"
      },
      "source": [
        "train_data['text'][1]"
      ],
      "execution_count": 8,
      "outputs": [
        {
          "output_type": "execute_result",
          "data": {
            "application/vnd.google.colaboratory.intrinsic+json": {
              "type": "string"
            },
            "text/plain": [
              "'Why do I get hallucinations?'"
            ]
          },
          "metadata": {
            "tags": []
          },
          "execution_count": 8
        }
      ]
    },
    {
      "cell_type": "code",
      "metadata": {
        "id": "2xlptT2Mfbct",
        "colab_type": "code",
        "colab": {}
      },
      "source": [
        "from nltk.corpus import stopwords\n",
        "stop_words =set(stopwords.words('english'))\n",
        "from nltk import word_tokenize,sent_tokenize\n",
        "from nltk.probability import FreqDist"
      ],
      "execution_count": 9,
      "outputs": []
    },
    {
      "cell_type": "code",
      "metadata": {
        "id": "2b3d_PEznmpr",
        "colab_type": "code",
        "colab": {
          "base_uri": "https://localhost:8080/",
          "height": 51
        },
        "outputId": "ba11b870-c89d-496e-c08e-aa102f0812ce"
      },
      "source": [
        "nltk.download('wordnet')\n",
        "from nltk.stem import PorterStemmer,WordNetLemmatizer"
      ],
      "execution_count": 10,
      "outputs": [
        {
          "output_type": "stream",
          "text": [
            "[nltk_data] Downloading package wordnet to /root/nltk_data...\n",
            "[nltk_data]   Package wordnet is already up-to-date!\n"
          ],
          "name": "stdout"
        }
      ]
    },
    {
      "cell_type": "code",
      "metadata": {
        "id": "-ZS5AWXGf85C",
        "colab_type": "code",
        "colab": {}
      },
      "source": [
        "# initialize lemmatizer\n",
        "stem = WordNetLemmatizer()"
      ],
      "execution_count": 11,
      "outputs": []
    },
    {
      "cell_type": "code",
      "metadata": {
        "id": "AKquqUphfzR9",
        "colab_type": "code",
        "colab": {}
      },
      "source": [
        "def preprocess_texts(dataset):\n",
        "  tokens = []\n",
        "\n",
        "  for i in range(len(dataset)):\n",
        "    words =''.join(list(dataset['text'][i]))\n",
        "    tok_words = word_tokenize(words)\n",
        "    # remove stop words from texts\n",
        "    filtered_words = [words for words in tok_words if words not in stop_words and len(words)>2]\n",
        "    # lemmatize words in texta\n",
        "    stem_words = [stem.lemmatize(words, pos='v') for words in filtered_words]\n",
        "    tokens.append(stem_words)\n",
        "    # return preprocessed text back to dataframe for split\n",
        "    dataset['text'][i]=' '.join(tokens[i])"
      ],
      "execution_count": 12,
      "outputs": []
    },
    {
      "cell_type": "code",
      "metadata": {
        "id": "cOUh_AXLtaWB",
        "colab_type": "code",
        "colab": {}
      },
      "source": [
        "preprocess_texts(train_data)"
      ],
      "execution_count": 13,
      "outputs": []
    },
    {
      "cell_type": "code",
      "metadata": {
        "id": "ox8P69F4i6Ts",
        "colab_type": "code",
        "colab": {
          "base_uri": "https://localhost:8080/",
          "height": 204
        },
        "outputId": "5f72ab72-3f5b-4f24-c665-f217bcdf82d8"
      },
      "source": [
        "train_data.head()"
      ],
      "execution_count": 14,
      "outputs": [
        {
          "output_type": "execute_result",
          "data": {
            "text/html": [
              "<div>\n",
              "<style scoped>\n",
              "    .dataframe tbody tr th:only-of-type {\n",
              "        vertical-align: middle;\n",
              "    }\n",
              "\n",
              "    .dataframe tbody tr th {\n",
              "        vertical-align: top;\n",
              "    }\n",
              "\n",
              "    .dataframe thead th {\n",
              "        text-align: right;\n",
              "    }\n",
              "</style>\n",
              "<table border=\"1\" class=\"dataframe\">\n",
              "  <thead>\n",
              "    <tr style=\"text-align: right;\">\n",
              "      <th></th>\n",
              "      <th>ID</th>\n",
              "      <th>text</th>\n",
              "      <th>label</th>\n",
              "    </tr>\n",
              "  </thead>\n",
              "  <tbody>\n",
              "    <tr>\n",
              "      <th>0</th>\n",
              "      <td>SUAVK39Z</td>\n",
              "      <td>feel better dieAm happy</td>\n",
              "      <td>Depression</td>\n",
              "    </tr>\n",
              "    <tr>\n",
              "      <th>1</th>\n",
              "      <td>9JDAGUV3</td>\n",
              "      <td>Why get hallucinations</td>\n",
              "      <td>Drugs</td>\n",
              "    </tr>\n",
              "    <tr>\n",
              "      <th>2</th>\n",
              "      <td>419WR1LQ</td>\n",
              "      <td>stresseed due lack financial support school</td>\n",
              "      <td>Depression</td>\n",
              "    </tr>\n",
              "    <tr>\n",
              "      <th>3</th>\n",
              "      <td>6UY7DX6Q</td>\n",
              "      <td>Why life important</td>\n",
              "      <td>Suicide</td>\n",
              "    </tr>\n",
              "    <tr>\n",
              "      <th>4</th>\n",
              "      <td>FYC0FTFB</td>\n",
              "      <td>How could help depression</td>\n",
              "      <td>Depression</td>\n",
              "    </tr>\n",
              "  </tbody>\n",
              "</table>\n",
              "</div>"
            ],
            "text/plain": [
              "         ID                                         text       label\n",
              "0  SUAVK39Z                      feel better dieAm happy  Depression\n",
              "1  9JDAGUV3                       Why get hallucinations       Drugs\n",
              "2  419WR1LQ  stresseed due lack financial support school  Depression\n",
              "3  6UY7DX6Q                           Why life important     Suicide\n",
              "4  FYC0FTFB                    How could help depression  Depression"
            ]
          },
          "metadata": {
            "tags": []
          },
          "execution_count": 14
        }
      ]
    },
    {
      "cell_type": "code",
      "metadata": {
        "id": "bbnE6fjXqNR1",
        "colab_type": "code",
        "colab": {
          "base_uri": "https://localhost:8080/",
          "height": 71
        },
        "outputId": "1f2e9ddf-7853-4e1f-f478-4d2f4a13f898"
      },
      "source": [
        "import seaborn as sns\n",
        "import matplotlib.pyplot as plt"
      ],
      "execution_count": 15,
      "outputs": [
        {
          "output_type": "stream",
          "text": [
            "/usr/local/lib/python3.6/dist-packages/statsmodels/tools/_testing.py:19: FutureWarning: pandas.util.testing is deprecated. Use the functions in the public API at pandas.testing instead.\n",
            "  import pandas.util.testing as tm\n"
          ],
          "name": "stderr"
        }
      ]
    },
    {
      "cell_type": "code",
      "metadata": {
        "id": "JyqtabOO86Gu",
        "colab_type": "code",
        "colab": {
          "base_uri": "https://localhost:8080/",
          "height": 34
        },
        "outputId": "1b3e9b99-ad40-4c07-c5f9-b0ee186a38de"
      },
      "source": [
        "# summarize class distribution\n",
        "from collections import Counter\n",
        "counter = Counter(train_data['label'])\n",
        "counter"
      ],
      "execution_count": 16,
      "outputs": [
        {
          "output_type": "execute_result",
          "data": {
            "text/plain": [
              "Counter({'Alcohol': 140, 'Depression': 352, 'Drugs': 58, 'Suicide': 66})"
            ]
          },
          "metadata": {
            "tags": []
          },
          "execution_count": 16
        }
      ]
    },
    {
      "cell_type": "code",
      "metadata": {
        "id": "RCt9go_0Tgvy",
        "colab_type": "code",
        "colab": {
          "base_uri": "https://localhost:8080/",
          "height": 351
        },
        "outputId": "8c9b8f4b-0287-4a54-c43a-d02e115551c3"
      },
      "source": [
        "plt.figure(figsize=(7,5))\n",
        "sns.countplot(train_data['label'])"
      ],
      "execution_count": 17,
      "outputs": [
        {
          "output_type": "execute_result",
          "data": {
            "text/plain": [
              "<matplotlib.axes._subplots.AxesSubplot at 0x7faa6dd1ceb8>"
            ]
          },
          "metadata": {
            "tags": []
          },
          "execution_count": 17
        },
        {
          "output_type": "display_data",
          "data": {
            "image/png": "[encoded data removed]",
            "text/plain": [
              "<Figure size 504x360 with 1 Axes>"
            ]
          },
          "metadata": {
            "tags": [],
            "needs_background": "light"
          }
        }
      ]
    },
    {
      "cell_type": "code",
      "metadata": {
        "id": "RPbuMudUsYaR",
        "colab_type": "code",
        "colab": {}
      },
      "source": [
        "# convert labels to numeric feature\n",
        "label_encode = {'Alcohol':0,'Depression': 1,'Drugs': 2,'Suicide':3}\n",
        "\n",
        "train_data['label_encode']=train_data['label'].map(label_encode)"
      ],
      "execution_count": 18,
      "outputs": []
    },
    {
      "cell_type": "code",
      "metadata": {
        "id": "DFvgQ4MtCQt_",
        "colab_type": "code",
        "colab": {
          "base_uri": "https://localhost:8080/",
          "height": 204
        },
        "outputId": "d07d137a-b4d1-4c4a-cb08-7902bdfb716f"
      },
      "source": [
        "train_data.head()"
      ],
      "execution_count": 19,
      "outputs": [
        {
          "output_type": "execute_result",
          "data": {
            "text/html": [
              "<div>\n",
              "<style scoped>\n",
              "    .dataframe tbody tr th:only-of-type {\n",
              "        vertical-align: middle;\n",
              "    }\n",
              "\n",
              "    .dataframe tbody tr th {\n",
              "        vertical-align: top;\n",
              "    }\n",
              "\n",
              "    .dataframe thead th {\n",
              "        text-align: right;\n",
              "    }\n",
              "</style>\n",
              "<table border=\"1\" class=\"dataframe\">\n",
              "  <thead>\n",
              "    <tr style=\"text-align: right;\">\n",
              "      <th></th>\n",
              "      <th>ID</th>\n",
              "      <th>text</th>\n",
              "      <th>label</th>\n",
              "      <th>label_encode</th>\n",
              "    </tr>\n",
              "  </thead>\n",
              "  <tbody>\n",
              "    <tr>\n",
              "      <th>0</th>\n",
              "      <td>SUAVK39Z</td>\n",
              "      <td>feel better dieAm happy</td>\n",
              "      <td>Depression</td>\n",
              "      <td>1</td>\n",
              "    </tr>\n",
              "    <tr>\n",
              "      <th>1</th>\n",
              "      <td>9JDAGUV3</td>\n",
              "      <td>Why get hallucinations</td>\n",
              "      <td>Drugs</td>\n",
              "      <td>2</td>\n",
              "    </tr>\n",
              "    <tr>\n",
              "      <th>2</th>\n",
              "      <td>419WR1LQ</td>\n",
              "      <td>stresseed due lack financial support school</td>\n",
              "      <td>Depression</td>\n",
              "      <td>1</td>\n",
              "    </tr>\n",
              "    <tr>\n",
              "      <th>3</th>\n",
              "      <td>6UY7DX6Q</td>\n",
              "      <td>Why life important</td>\n",
              "      <td>Suicide</td>\n",
              "      <td>3</td>\n",
              "    </tr>\n",
              "    <tr>\n",
              "      <th>4</th>\n",
              "      <td>FYC0FTFB</td>\n",
              "      <td>How could help depression</td>\n",
              "      <td>Depression</td>\n",
              "      <td>1</td>\n",
              "    </tr>\n",
              "  </tbody>\n",
              "</table>\n",
              "</div>"
            ],
            "text/plain": [
              "         ID  ... label_encode\n",
              "0  SUAVK39Z  ...            1\n",
              "1  9JDAGUV3  ...            2\n",
              "2  419WR1LQ  ...            1\n",
              "3  6UY7DX6Q  ...            3\n",
              "4  FYC0FTFB  ...            1\n",
              "\n",
              "[5 rows x 4 columns]"
            ]
          },
          "metadata": {
            "tags": []
          },
          "execution_count": 19
        }
      ]
    },
    {
      "cell_type": "code",
      "metadata": {
        "id": "0vpsk6S3slYJ",
        "colab_type": "code",
        "colab": {
          "base_uri": "https://localhost:8080/",
          "height": 34
        },
        "outputId": "9606db17-10dc-48bc-dfc7-8beb00d4c0dc"
      },
      "source": [
        "# summarize class distribution\n",
        "from collections import Counter\n",
        "counter = Counter(train_data['label_encode'])\n",
        "counter"
      ],
      "execution_count": 20,
      "outputs": [
        {
          "output_type": "execute_result",
          "data": {
            "text/plain": [
              "Counter({0: 140, 1: 352, 2: 58, 3: 66})"
            ]
          },
          "metadata": {
            "tags": []
          },
          "execution_count": 20
        }
      ]
    },
    {
      "cell_type": "code",
      "metadata": {
        "id": "xrWVUIldCF8b",
        "colab_type": "code",
        "colab": {
          "base_uri": "https://localhost:8080/",
          "height": 352
        },
        "outputId": "e12b2cef-dab3-4814-81f4-1cec38bd3dc9"
      },
      "source": [
        "plt.figure(figsize=(7,5))\n",
        "sns.countplot(train_data['label_encode'])"
      ],
      "execution_count": 21,
      "outputs": [
        {
          "output_type": "execute_result",
          "data": {
            "text/plain": [
              "<matplotlib.axes._subplots.AxesSubplot at 0x7faa6dd1c828>"
            ]
          },
          "metadata": {
            "tags": []
          },
          "execution_count": 21
        },
        {
          "output_type": "display_data",
          "data": {
            "image/png": "[encoded data removed]",
            "text/plain": [
              "<Figure size 504x360 with 1 Axes>"
            ]
          },
          "metadata": {
            "tags": [],
            "needs_background": "light"
          }
        }
      ]
    },
    {
      "cell_type": "code",
      "metadata": {
        "id": "shmhYW2ouQxd",
        "colab_type": "code",
        "colab": {}
      },
      "source": [
        "all_words = ' '.join(list(train_data['text'][:]))"
      ],
      "execution_count": 22,
      "outputs": []
    },
    {
      "cell_type": "code",
      "metadata": {
        "id": "-oDQ80HQwstS",
        "colab_type": "code",
        "colab": {
          "base_uri": "https://localhost:8080/",
          "height": 137
        },
        "outputId": "64044e06-b8e5-4f4d-c4db-3b2a0367f950"
      },
      "source": [
        "all_words"
      ],
      "execution_count": 23,
      "outputs": [
        {
          "output_type": "execute_result",
          "data": {
            "application/vnd.google.colaboratory.intrinsic+json": {
              "type": "string"
            },
            "text/plain": [
              "\"feel better dieAm happy Why get hallucinations stresseed due lack financial support school Why life important How could help depression What effect depression ones health Why everything hard deal life feel emotionally overwhelm How manage take alcohol heaven open smoke bhang How survive without money How stop What life become unbearable ever sad alone always drugsNow know cope negative aspects life feel empty absent mind experience depression study feel like alone world feel low place What get depression How stop use alcohol feel hopeless unworthy useless …How cope stress frorge past Does mediataton help stop weed addiction feel bad life difficulties also feel bad one control What effect smoke bhang Sadness hatredNow feel happiness Feelings like everything fall apart Now things control cope difficult situation avoid Deteriorating academic performance Effect alcohol society body How could stop use bhang How avoid drug abuse How stop What addiction mean feel reject right depress person use drug stop take alcohol think good How seek help alcoholism stress Main challenge depression side effect health feel confuse helpless push cornerFeeling kind better How one avoid bad company How avoiod depression campus Causes suicide youths What effect alcohol feel low overcome feel painful unwanted What change situation What resist bad feel Too much classwork cope ith many responsibilities How stop alcohol face lot challenge life financially emotionally psycologically solutions…How safely look solutions depression google always feel sad lonely feel unworthy waste best ways follow stop use think handle drink feel depress relationship issueS How stop take alcohol minimize alcoholism How deal overcome bad situation Effects alcohol use rent money gamble Why exist Will Prayer help sucidal thoughts How get help Who could reason depression suffer depression time think best way avoid keep busy How avoid alcohol Lonely happiness harm take alcohol What importance alcohol feel indescribable sadness What common ways reduce depression feel low Parental negletion cause depression Effects alcohol body health bad company friends influence smoke weed succed self worth life low self esteem How overcome alcoholism How stop use weed downhearted How overcome feel How stop alcohol stop drink alcohol How overcome incident Side effect problems associate depression feel irritate happen What best way withdraw drug Feelings anxiety fear feel inadequacy What good life What effect depression Measures take overcome suicidal thoughts avoid get addict Feeling lonelyNow feel better use bhang felt incomplete overthinking stress feel chaotic sad isolatedNow better How study avoid fail exams Was sad lonely confusedNow happy content How stop drug abuse Why drink anyway What effect overdrinking alcohol How overcome peer pressure take alcohol think school expense handle pain inorder stop alcohol abuse How manage social drink Why life difficult sad feel head explode Lots burnout feel much better feel hopelessFor fine get stagnation point drop class advantage take bhang feel stress hopeless Challenging feel abandon lonely n't stop smoke weed good feel calmness overwhelm life feel terrible take drug worth feel like days fly past Why bad things always happen Lonely stress How avoid waste money alcohol friends Dissappointed How one come depression How stop addiction Lonely nott simply relationship issue still depress worry mental health How stop What one reduce feel depression How reduce excess intake alcohol disclose issue Impacts alcohol real life How stop take bhang depress feel like whole world really feel bore situation experience dizzines lack appetite feel things go way feel like give feel like waste life Insomia headache social problems How without alcohol stress What make one addict alcohol How stop drink How stop/ reduce alcohol How without relationship How gain momentum academics feel nobody love much world feel much bette feel like world How stop drug usage Does bhang affect memory haveI feel lone ranger okay How stop bhang feel like give everything feel sad feel less important anyone Causes alcoholism ways one stop alcohol Ways stop alcohol addiction feel low like way death What life Looking employment still depress stop feel well okay feel low lose hope everythingI feel better disease drain resources family involve Love affair would like know control waste money alcohol What effect smoke bhang What best cop strategies deal stress sister oftenly faint trouble Hopeless get depress want solitude withdrawal people helpful commit suicide feel stress peer counsel programme How overcome alcoholism How stop take alcohol hate life give everything life Causes suicide feel stress Why larger percentage youths involve alcoholism Where get money needs…Where get money personal need How get better How avoid thoughts What reason depression Why people think commit suicide What effect drug consumption How overcome feel weaker weaker thoughts feel horrible unsatisfied Ways overcome peer influence alcoholism How stop take alcohol recommend rehabilitation What mum think whren find smoke weed Will alcohol lead bad place life Why suffer Depressed break relationship church pastor sex highschool daughter Who guide whn depress financially constrain school fee family background stable lot debts…I elderly brother could easily support job even graduate stress overwhelm many thingof lifeRight take things easy feel discourage self esteem go low feel unloved unwanted need advise avoid alcohol Does smoke make one cool feel depress issue best friend parent lowest point lowkey everyday never feel like npt worth live feel low sad Being leave person love feel trap This loneliest moments depress feel like give life try ask stop habit ways deal depression want alone company friends tell strong enough Lonely isolate weak feel helpless life hard Why health deteroriating feel withdraw alone stress sad How overcome suicide heartbreak feel desparate…why world unfair feel like world fall apart Effects alcohol life How deal hallucinations Sad lonely tire feel lonelyI quite okay take alcohol personal realization quit alcohol life even worth feel everything come end What effect alcohol body How manage relationship What solution feel hopeless How motivate feel low Never seek assistance alcohol really harmful What could deal frustrations things happen seek help Does weed good feel heart break person wrong forgive accept reconcilliation feel like world especially friends relatives close conqured life important The feel like alone world Sad lonely feel like give childlish feel depress How shun Feeling relieve Whom approach mentally disturb always feel heartbroken time experience stress lead depressionI issue handle fee sad unwanted help come depression feel sad break unpreparedness exams What live isolate place How stop behaviour alcohol take able handle stress feel like take away life could cause depression overcome Can beer lead problem How stop financial crisis smoke weed addidcted need assistance alccohol form entertainment young adults feel Sad lose father Why need keep hold nothing life really ahd purpose How convince someone commit suicide feel bad dont want interact anyone How control emotions How stop drinnking feel lowI feel good better feel like commit suicide need solutions problem lead depression Financial issue How stop bhang How deal depression How stop take alcohol feel like nobody care feel please How overcome depression Why must How stay without smoke How stop addiction feel like kill kill people cause depression almost give get assistance addict alcohol helpful ones health What permanent solution depress person How deal problems lead suicide quit alcohol overwhelm deal issue fine feel severely depress withdraw people prefer alone lose bet house rent feel uneasy difficulty life feel sad hopeless sure depression Are helpful effect bhang nervous bother Where find rehabilitation center Suicidal thoughts stress hyper-arousal What main cause excessive alcohol take Why life difficult n't feel like talk anyone What relieve Main cause depression deal arise feel lonely discourage SadI good feel like life make sense How limit get depress feel like life do joy life The loss beloved father Why people take alcohol benefitial life What one avoid take alcohol make money feel lonely one want stay around How stop use alcohol feel unloved unwanted dont deserve alive How overcome frustration What cause depression effect felt emotionally low sad time feel better stronger happier financially instable Why challenge come way one think How stop take alcohol devastate angry ather people How stop What effect get rid need help help manage situation How get financial sponsorship avoid stress feel sickly lack appetite feel like life good since one talk worst experience alcohol Why depression occur stop alcoholism felt sad stress lowi better family split deeply affect Loss close family member What mean avoid alcohol Family issue What go reconcile parent reject How get depression future Had problem personal look feel sad How stop alcohol How overcome peer pressure depress way back highschool look schoolfees What life Can ever get back old person Can kill find pleasure things How overcome depression What get depress anything avoid smoke weed How stop drink alcohol n't feel love Low alone still think get back alcohol How overcome alcohol addiction Does drink alcohol solve problems low self esteem fearful failure start drink alcohol Can beer lead problem much depress lot confusion really feel disgust diserted feel depress seek guidance feel lonely get position feel low sickly lonelyCurrently feel better guidance counsel people judge quickly fail everything still depress How help depress feel withdraw get experience challenge raise school fee easy task family issue feel alone everyone desert need addict How quit drink excessive alcohol exactly depression How stop use alcohol ways affect future stop take alcohol Why friends ignore go much life compare others feel life unworthy How quit alcoholism What ways quit bhang use Fear future unpredictable feel anxiety Should ignore friends make efforts quit challenge Should back girlfriend feel like God abandon rather suppose bear existd life How stop take alcohol How someone commit suicide feel lonely sad feel waste use How come depress situation man enough How stop use alcohol How get point depression How campus education help think suicide Death beloved one Does alcohol add value Just want sleep relax consult anybody feel see anybody feel sad lose How better would quit How cope reality financial distress What effect bhang How stop use alcohol How quit drink completely overcome Getting unexpected result -dissatisfied relationship issue possible overcome depression feel suicidal dont know talk Being financially unstable How get schoolfee continue education feel bad view life negativecurrently better feel lose unloved use annd want alone life really fair How cope situation How avoid bad company hopeless Hopeless Why alcohol sell along school perimeter What ways would use get rid mess life feel drink get addict drink feel good What effect bhang one health Reasons young people use bhang avoid alcohol What order heal Can alcohol make forget problem temporarily feel like n't handle thoughts overcome depression What effect alcohol liver feel like nothing matter everything messNow feel like things matter What effect bhang raise money education relatives deny me…I wonder part family How one avoid depression overcome stress How make away What cause depression take alcohol bad bore cure depression How feel better Whats mean life Why close relatives betray feel lonely one could understand What benefit alcohol Should talk friends peer counsellor depression help heal depression go FGM young even though consent feel like give life get depression How reduce intake What cause suicide Why one feel paranoid How stop addiction Feelings defeat post exams depression Motivated better feel like call semester ask God take away feel since strong What doto receive relief feel like give life Why alcohol manufacture feel lot stress feel helpless How deal pessimistic thoughts cause depression How avoid deal situation respond What make girlfriend cheat even sacrifice everything sake feel overwhelm many thoughts deal feel alone unwanted people around How stop think suicide feel like life waste quit habit Defering class finacial constraints How seek assistance depression deal boredom importance live Why live love surround The way stop addiction overcome issue result feel depress dump long stay single sould jump another relationship feel heartbroken Alcohol cause issue How get rid depression experience know depression Can get help ask alcohol right solution problems feel hopeless want give When someone depress he/she feel discourage alone feel place lonely discourage Ways distract sad Why depress suicide solution feel low demotivated okay happy life could deal situation disturb depress death uncle provide basic need really true weed make one mad normal feel depress What mean life feel emptiness alone How stop drink habit want give fell stress low How cope situation take alcohol stress management Why depress What cause depression What cop mechanisms prevention depression How quit alcoholism alcohol harmful health one loose close relative advice could give alcohol good stress remover lonely lack interest life little consumption harmful Owing fact dont misbehave Financial okay would away problems How motivate possible one avoid take bhang best way avoid alcohol felt worhtless like deserve alive feel low feel alone get better feel reject alone frustratedi live one day time feel low want isolate young people use bhang Can bhang make crazy take alcohol love feel normal depression feel alone How stop take alcohol Does alcohol benefitto body feel awful life Feelings low weatherNow better Why quit bhang How deal romantic relationships What depress What one reduce feel What cause suicidal thoughts feel suicidal break experience feel heavy burden Why drug supply students How overcome stress make life smooth two miscarriages feel lose doI stay positive What effect talk someone feel suicidal feel neglect sad deal family issue suicide really best method solve problem What avoid shame village people How could survive without friends This occur quite often How avoid negative peer pressure How away alcohol deal break girlfriend parent death feel like hate choices make awful improve performance How handle suicide incidencesof suicide youths Which best alcohol How avoid alcoholism How seek help want commit suicide fail exams feel like nothing worldm How get back selfworth Lack financial support relationship heartbreaks What step one take depress feel uncomfortable really lot headaches someone drink much Will criticize take weed What could cause stress boredom How could leave depression How overcome utilize finance How seek guidance counsel school Causes depression -How contol depression Can help go bankrupt alcohol Why life unfair How come behaviour take alcohol harmful How stop use alcohol right smoke weed name culture Relationship issue ways one control thoughts suicide Feelings unworthyness n't want associate people Feeling things work expect avoid feel world come end hustle pick live without depression What avoid loss concentration class fantasize class study times-on romance ponographic issue addiction avoid Between bhang cigarette harmful feel low need talk friend How forgive past feel like nobody Major step take get rid alcohol consumption The world control Lossing bet What effect take alcohol feel like give Why bhang prohibit yet like drug Not experience feel like crumble home one listen parent start neglect despise weed harmful feel bad fine Low self esteem weed really go give energy need never seek assistance How stop alcohol intake deal migraines suicide best remedy ask assistance first later seek assistance help good way feel confuse overcome problem How resist peer pressure tire Where get money drink daily Why hard stop weed addict feel low time Why alive Life hard What stop alcoholism How become oldself How someone stop feel unworthy feel discourage life\""
            ]
          },
          "metadata": {
            "tags": []
          },
          "execution_count": 23
        }
      ]
    },
    {
      "cell_type": "code",
      "metadata": {
        "id": "RFjI2K1WvPLG",
        "colab_type": "code",
        "colab": {}
      },
      "source": [
        "all_words = word_tokenize(all_words)"
      ],
      "execution_count": 24,
      "outputs": []
    },
    {
      "cell_type": "code",
      "metadata": {
        "id": "UPvxwRFdrdIz",
        "colab_type": "code",
        "colab": {
          "base_uri": "https://localhost:8080/",
          "height": 34
        },
        "outputId": "bf83533c-fa90-42a6-fbff-0351ab37f8a5"
      },
      "source": [
        "len(all_words)"
      ],
      "execution_count": 25,
      "outputs": [
        {
          "output_type": "execute_result",
          "data": {
            "text/plain": [
              "2498"
            ]
          },
          "metadata": {
            "tags": []
          },
          "execution_count": 25
        }
      ]
    },
    {
      "cell_type": "code",
      "metadata": {
        "id": "QElqftKHA_Y8",
        "colab_type": "code",
        "colab": {}
      },
      "source": [
        "X = list(train_data['text'])"
      ],
      "execution_count": 26,
      "outputs": []
    },
    {
      "cell_type": "code",
      "metadata": {
        "id": "nkBVaqNcBOVe",
        "colab_type": "code",
        "colab": {
          "base_uri": "https://localhost:8080/",
          "height": 102
        },
        "outputId": "d5b787c9-8867-41f6-851c-4663f9d145b4"
      },
      "source": [
        "X[:5]"
      ],
      "execution_count": 27,
      "outputs": [
        {
          "output_type": "execute_result",
          "data": {
            "text/plain": [
              "['feel better dieAm happy',\n",
              " 'Why get hallucinations',\n",
              " 'stresseed due lack financial support school',\n",
              " 'Why life important',\n",
              " 'How could help depression']"
            ]
          },
          "metadata": {
            "tags": []
          },
          "execution_count": 27
        }
      ]
    },
    {
      "cell_type": "code",
      "metadata": {
        "id": "jvXoij2cvvmb",
        "colab_type": "code",
        "colab": {
          "base_uri": "https://localhost:8080/",
          "height": 34
        },
        "outputId": "8bffcce6-dde5-4e46-cbe2-f2b46df2e0e5"
      },
      "source": [
        "from keras.preprocessing.text import Tokenizer"
      ],
      "execution_count": 28,
      "outputs": [
        {
          "output_type": "stream",
          "text": [
            "Using TensorFlow backend.\n"
          ],
          "name": "stderr"
        }
      ]
    },
    {
      "cell_type": "code",
      "metadata": {
        "id": "uJ8GuLypwLpb",
        "colab_type": "code",
        "colab": {}
      },
      "source": [
        "# Tokenizing all words in the dataset\n",
        "most_used = 2000\n",
        "tokenizer = Tokenizer(num_words=most_used,lower=True)\n",
        "tokenizer.fit_on_texts(all_words)\n",
        "word_index = tokenizer.word_index"
      ],
      "execution_count": 29,
      "outputs": []
    },
    {
      "cell_type": "code",
      "metadata": {
        "id": "_dU9jFnhy_LD",
        "colab_type": "code",
        "colab": {}
      },
      "source": [
        "X_tokens = tokenizer.texts_to_sequences(X)\n",
        "X_tokens= np.array(X_tokens)"
      ],
      "execution_count": 30,
      "outputs": []
    },
    {
      "cell_type": "code",
      "metadata": {
        "id": "vpJnElq5EBE8",
        "colab_type": "code",
        "colab": {
          "base_uri": "https://localhost:8080/",
          "height": 68
        },
        "outputId": "28fdef9d-d2db-41de-ea18-b64028e4a44e"
      },
      "source": [
        "X_tokens[:5]"
      ],
      "execution_count": 31,
      "outputs": [
        {
          "output_type": "execute_result",
          "data": {
            "text/plain": [
              "array([list([1, 24, 262, 136]), list([10, 11, 183]),\n",
              "       list([263, 264, 90, 64, 137, 73]), list([10, 7, 138]),\n",
              "       list([2, 34, 25, 6])], dtype=object)"
            ]
          },
          "metadata": {
            "tags": []
          },
          "execution_count": 31
        }
      ]
    },
    {
      "cell_type": "code",
      "metadata": {
        "id": "22DhcxpWFd54",
        "colab_type": "code",
        "colab": {}
      },
      "source": [
        "# A function that coverts texts to tokens and returns it back to te dataframe\n",
        "def text_2_tokens(dataset):\n",
        "  for i in range(len(dataset)):\n",
        "    words = word_tokenize(dataset['text'][i])\n",
        "    toks = tokenizer.texts_to_sequences(words)\n",
        "    dataset['text'][i]=np.array(toks).reshape(len(toks),)"
      ],
      "execution_count": 32,
      "outputs": []
    },
    {
      "cell_type": "code",
      "metadata": {
        "id": "H7fZowCZGoTf",
        "colab_type": "code",
        "colab": {
          "base_uri": "https://localhost:8080/",
          "height": 102
        },
        "outputId": "79cc10eb-a810-4ff8-b99e-0ee6bea7cdb3"
      },
      "source": [
        "text_2_tokens(train_data)"
      ],
      "execution_count": 33,
      "outputs": [
        {
          "output_type": "stream",
          "text": [
            "/usr/local/lib/python3.6/dist-packages/ipykernel_launcher.py:6: SettingWithCopyWarning: \n",
            "A value is trying to be set on a copy of a slice from a DataFrame\n",
            "\n",
            "See the caveats in the documentation: https://pandas.pydata.org/pandas-docs/stable/user_guide/indexing.html#returning-a-view-versus-a-copy\n",
            "  \n"
          ],
          "name": "stderr"
        }
      ]
    },
    {
      "cell_type": "code",
      "metadata": {
        "id": "Q7RO_R7EGzZF",
        "colab_type": "code",
        "colab": {
          "base_uri": "https://localhost:8080/",
          "height": 204
        },
        "outputId": "aa399515-ed3d-4c3a-9851-36f81822b43f"
      },
      "source": [
        "train_data.head()"
      ],
      "execution_count": 34,
      "outputs": [
        {
          "output_type": "execute_result",
          "data": {
            "text/html": [
              "<div>\n",
              "<style scoped>\n",
              "    .dataframe tbody tr th:only-of-type {\n",
              "        vertical-align: middle;\n",
              "    }\n",
              "\n",
              "    .dataframe tbody tr th {\n",
              "        vertical-align: top;\n",
              "    }\n",
              "\n",
              "    .dataframe thead th {\n",
              "        text-align: right;\n",
              "    }\n",
              "</style>\n",
              "<table border=\"1\" class=\"dataframe\">\n",
              "  <thead>\n",
              "    <tr style=\"text-align: right;\">\n",
              "      <th></th>\n",
              "      <th>ID</th>\n",
              "      <th>text</th>\n",
              "      <th>label</th>\n",
              "      <th>label_encode</th>\n",
              "    </tr>\n",
              "  </thead>\n",
              "  <tbody>\n",
              "    <tr>\n",
              "      <th>0</th>\n",
              "      <td>SUAVK39Z</td>\n",
              "      <td>[1, 24, 262, 136]</td>\n",
              "      <td>Depression</td>\n",
              "      <td>1</td>\n",
              "    </tr>\n",
              "    <tr>\n",
              "      <th>1</th>\n",
              "      <td>9JDAGUV3</td>\n",
              "      <td>[10, 11, 183]</td>\n",
              "      <td>Drugs</td>\n",
              "      <td>2</td>\n",
              "    </tr>\n",
              "    <tr>\n",
              "      <th>2</th>\n",
              "      <td>419WR1LQ</td>\n",
              "      <td>[263, 264, 90, 64, 137, 73]</td>\n",
              "      <td>Depression</td>\n",
              "      <td>1</td>\n",
              "    </tr>\n",
              "    <tr>\n",
              "      <th>3</th>\n",
              "      <td>6UY7DX6Q</td>\n",
              "      <td>[10, 7, 138]</td>\n",
              "      <td>Suicide</td>\n",
              "      <td>3</td>\n",
              "    </tr>\n",
              "    <tr>\n",
              "      <th>4</th>\n",
              "      <td>FYC0FTFB</td>\n",
              "      <td>[2, 34, 25, 6]</td>\n",
              "      <td>Depression</td>\n",
              "      <td>1</td>\n",
              "    </tr>\n",
              "  </tbody>\n",
              "</table>\n",
              "</div>"
            ],
            "text/plain": [
              "         ID                         text       label  label_encode\n",
              "0  SUAVK39Z            [1, 24, 262, 136]  Depression             1\n",
              "1  9JDAGUV3                [10, 11, 183]       Drugs             2\n",
              "2  419WR1LQ  [263, 264, 90, 64, 137, 73]  Depression             1\n",
              "3  6UY7DX6Q                 [10, 7, 138]     Suicide             3\n",
              "4  FYC0FTFB               [2, 34, 25, 6]  Depression             1"
            ]
          },
          "metadata": {
            "tags": []
          },
          "execution_count": 34
        }
      ]
    },
    {
      "cell_type": "code",
      "metadata": {
        "id": "aid6BEzLHBcf",
        "colab_type": "code",
        "colab": {
          "base_uri": "https://localhost:8080/",
          "height": 34
        },
        "outputId": "bf31fda2-d97d-45d7-c09a-c580ce6b8abf"
      },
      "source": [
        "train_data['text'][0]"
      ],
      "execution_count": 35,
      "outputs": [
        {
          "output_type": "execute_result",
          "data": {
            "text/plain": [
              "array([  1,  24, 262, 136])"
            ]
          },
          "metadata": {
            "tags": []
          },
          "execution_count": 35
        }
      ]
    },
    {
      "cell_type": "code",
      "metadata": {
        "id": "o4bmlVUioxOM",
        "colab_type": "code",
        "colab": {}
      },
      "source": [
        "# mapping values to keys since word_index as done the reverse\n",
        "word_index = tokenizer.word_index\n",
        "inverse_map = dict(zip(word_index.values(), word_index.keys()))"
      ],
      "execution_count": 36,
      "outputs": []
    },
    {
      "cell_type": "code",
      "metadata": {
        "id": "vKLzO9ugNqFd",
        "colab_type": "code",
        "colab": {
          "base_uri": "https://localhost:8080/",
          "height": 35
        },
        "outputId": "d85eff70-4d16-489b-c5d8-de169120e282"
      },
      "source": [
        "inverse_map[45]"
      ],
      "execution_count": 37,
      "outputs": [
        {
          "output_type": "execute_result",
          "data": {
            "application/vnd.google.colaboratory.intrinsic+json": {
              "type": "string"
            },
            "text/plain": [
              "'good'"
            ]
          },
          "metadata": {
            "tags": []
          },
          "execution_count": 37
        }
      ]
    },
    {
      "cell_type": "code",
      "metadata": {
        "id": "QCbB3ic9pNhI",
        "colab_type": "code",
        "colab": {}
      },
      "source": [
        "# A function that converts tokens to texts\n",
        "def token_2_string(tokens):\n",
        "  words = [inverse_map[tokens] for tokens in tokens]\n",
        "  text = ' '.join(words)\n",
        "\n",
        "  return text"
      ],
      "execution_count": 38,
      "outputs": []
    },
    {
      "cell_type": "code",
      "metadata": {
        "id": "AarGxsTJqFyC",
        "colab_type": "code",
        "colab": {
          "base_uri": "https://localhost:8080/",
          "height": 51
        },
        "outputId": "33603a3c-e8ab-474e-bcc4-8a643284f70c"
      },
      "source": [
        "# checking out token to string function \n",
        "print(token_2_string(train_data['text'][0]))\n",
        "print(token_2_string(X_tokens[5]))"
      ],
      "execution_count": 39,
      "outputs": [
        {
          "output_type": "stream",
          "text": [
            "feel better dieam happy\n",
            "what effect depression ones health\n"
          ],
          "name": "stdout"
        }
      ]
    },
    {
      "cell_type": "code",
      "metadata": {
        "id": "hD0HE3uirOL9",
        "colab_type": "code",
        "colab": {}
      },
      "source": [
        "# Split the dataset\n",
        "X = X_tokens\n",
        "y = train_data['label_encode']"
      ],
      "execution_count": 40,
      "outputs": []
    },
    {
      "cell_type": "code",
      "metadata": {
        "id": "XRzgeWG2rP6y",
        "colab_type": "code",
        "colab": {
          "base_uri": "https://localhost:8080/",
          "height": 68
        },
        "outputId": "c9970af8-8b8d-4c58-ecce-616009d5bc1b"
      },
      "source": [
        "X[:5]"
      ],
      "execution_count": 41,
      "outputs": [
        {
          "output_type": "execute_result",
          "data": {
            "text/plain": [
              "array([list([1, 24, 262, 136]), list([10, 11, 183]),\n",
              "       list([263, 264, 90, 64, 137, 73]), list([10, 7, 138]),\n",
              "       list([2, 34, 25, 6])], dtype=object)"
            ]
          },
          "metadata": {
            "tags": []
          },
          "execution_count": 41
        }
      ]
    },
    {
      "cell_type": "code",
      "metadata": {
        "id": "WTtUMuZZbPwE",
        "colab_type": "code",
        "colab": {}
      },
      "source": [
        "token_length = [len(tokens) for tokens in X]\n",
        "token_length = np.array(token_length)"
      ],
      "execution_count": 42,
      "outputs": []
    },
    {
      "cell_type": "code",
      "metadata": {
        "id": "iQzSkDTwprTF",
        "colab_type": "code",
        "colab": {
          "base_uri": "https://localhost:8080/",
          "height": 34
        },
        "outputId": "3c473cd0-6081-434b-8c4f-500ae1d4d011"
      },
      "source": [
        "token_length.max()"
      ],
      "execution_count": 43,
      "outputs": [
        {
          "output_type": "execute_result",
          "data": {
            "text/plain": [
              "17"
            ]
          },
          "metadata": {
            "tags": []
          },
          "execution_count": 43
        }
      ]
    },
    {
      "cell_type": "code",
      "metadata": {
        "id": "S26SuJF_NoyA",
        "colab_type": "code",
        "colab": {}
      },
      "source": [
        "from keras.preprocessing.sequence import pad_sequences\n",
        "X = pad_sequences(X_tokens, maxlen=token_length.max())"
      ],
      "execution_count": 44,
      "outputs": []
    },
    {
      "cell_type": "code",
      "metadata": {
        "id": "g7axW9wIQDrQ",
        "colab_type": "code",
        "colab": {
          "base_uri": "https://localhost:8080/",
          "height": 119
        },
        "outputId": "4114f3a5-bf75-45a4-a84b-fecee72a56f8"
      },
      "source": [
        "X[:3]"
      ],
      "execution_count": 45,
      "outputs": [
        {
          "output_type": "execute_result",
          "data": {
            "text/plain": [
              "array([[  0,   0,   0,   0,   0,   0,   0,   0,   0,   0,   0,   0,   0,\n",
              "          1,  24, 262, 136],\n",
              "       [  0,   0,   0,   0,   0,   0,   0,   0,   0,   0,   0,   0,   0,\n",
              "          0,  10,  11, 183],\n",
              "       [  0,   0,   0,   0,   0,   0,   0,   0,   0,   0,   0, 263, 264,\n",
              "         90,  64, 137,  73]], dtype=int32)"
            ]
          },
          "metadata": {
            "tags": []
          },
          "execution_count": 45
        }
      ]
    },
    {
      "cell_type": "code",
      "metadata": {
        "id": "RsaH6h4dccGy",
        "colab_type": "code",
        "colab": {}
      },
      "source": [
        "y = pd.get_dummies(train_data['label']).values"
      ],
      "execution_count": 46,
      "outputs": []
    },
    {
      "cell_type": "code",
      "metadata": {
        "id": "KuP2CLCIgiim",
        "colab_type": "code",
        "colab": {
          "base_uri": "https://localhost:8080/",
          "height": 119
        },
        "outputId": "0ceabe27-d030-4c32-f7d2-e11b0fa51309"
      },
      "source": [
        "train_data['label'].head(5)"
      ],
      "execution_count": 47,
      "outputs": [
        {
          "output_type": "execute_result",
          "data": {
            "text/plain": [
              "0    Depression\n",
              "1         Drugs\n",
              "2    Depression\n",
              "3       Suicide\n",
              "4    Depression\n",
              "Name: label, dtype: object"
            ]
          },
          "metadata": {
            "tags": []
          },
          "execution_count": 47
        }
      ]
    },
    {
      "cell_type": "code",
      "metadata": {
        "id": "I1icdizWclLq",
        "colab_type": "code",
        "colab": {
          "base_uri": "https://localhost:8080/",
          "height": 102
        },
        "outputId": "0ff736b4-a07c-4827-c620-ca1e6e18fc78"
      },
      "source": [
        "y[:5]"
      ],
      "execution_count": 48,
      "outputs": [
        {
          "output_type": "execute_result",
          "data": {
            "text/plain": [
              "array([[0, 1, 0, 0],\n",
              "       [0, 0, 1, 0],\n",
              "       [0, 1, 0, 0],\n",
              "       [0, 0, 0, 1],\n",
              "       [0, 1, 0, 0]], dtype=uint8)"
            ]
          },
          "metadata": {
            "tags": []
          },
          "execution_count": 48
        }
      ]
    },
    {
      "cell_type": "code",
      "metadata": {
        "id": "sVcw_sZ5p6GM",
        "colab_type": "code",
        "colab": {
          "base_uri": "https://localhost:8080/",
          "height": 34
        },
        "outputId": "84f6d3e0-e66f-4612-dd60-027f7fe10b43"
      },
      "source": [
        "X.shape"
      ],
      "execution_count": 49,
      "outputs": [
        {
          "output_type": "execute_result",
          "data": {
            "text/plain": [
              "(616, 17)"
            ]
          },
          "metadata": {
            "tags": []
          },
          "execution_count": 49
        }
      ]
    },
    {
      "cell_type": "code",
      "metadata": {
        "id": "zK07pfbJtQht",
        "colab_type": "code",
        "colab": {
          "base_uri": "https://localhost:8080/",
          "height": 34
        },
        "outputId": "14a1f1ce-c938-4896-eba4-0351107ee562"
      },
      "source": [
        "y.shape"
      ],
      "execution_count": 50,
      "outputs": [
        {
          "output_type": "execute_result",
          "data": {
            "text/plain": [
              "(616, 4)"
            ]
          },
          "metadata": {
            "tags": []
          },
          "execution_count": 50
        }
      ]
    },
    {
      "cell_type": "code",
      "metadata": {
        "id": "rFHsuoHUtUAs",
        "colab_type": "code",
        "colab": {}
      },
      "source": [
        "from tensorflow.keras.models import Sequential\n",
        "from tensorflow.keras.layers import Embedding,LSTM,GRU,Dropout,Dense\n",
        "from tensorflow.keras.callbacks import EarlyStopping"
      ],
      "execution_count": 51,
      "outputs": []
    },
    {
      "cell_type": "code",
      "metadata": {
        "id": "a5isCCO6Ta7L",
        "colab_type": "code",
        "colab": {
          "base_uri": "https://localhost:8080/",
          "height": 54
        },
        "outputId": "83082c04-4911-4b74-f190-ad303bdd71db"
      },
      "source": [
        "model = Sequential()\n",
        "\n",
        "model.add(Embedding(input_dim=most_used,output_dim=150,input_length=token_length.max()))\n",
        "\n",
        "model.add(LSTM(units=100,activation='relu'))\n",
        "\n",
        "model.add(Dense(4, activation='softmax'))\n",
        "\n",
        "model.compile(loss='categorical_crossentropy', optimizer='adam', metrics=['accuracy'])"
      ],
      "execution_count": 52,
      "outputs": [
        {
          "output_type": "stream",
          "text": [
            "WARNING:tensorflow:Layer lstm will not use cuDNN kernel since it doesn't meet the cuDNN kernel criteria. It will use generic GPU kernel as fallback when running on GPU\n"
          ],
          "name": "stdout"
        }
      ]
    },
    {
      "cell_type": "code",
      "metadata": {
        "id": "C6RuBGO-Vsgz",
        "colab_type": "code",
        "colab": {
          "base_uri": "https://localhost:8080/",
          "height": 255
        },
        "outputId": "06788bc9-020c-492b-91cd-55d157897a76"
      },
      "source": [
        "model.summary()"
      ],
      "execution_count": 53,
      "outputs": [
        {
          "output_type": "stream",
          "text": [
            "Model: \"sequential\"\n",
            "_________________________________________________________________\n",
            "Layer (type)                 Output Shape              Param #   \n",
            "=================================================================\n",
            "embedding (Embedding)        (None, 17, 150)           300000    \n",
            "_________________________________________________________________\n",
            "lstm (LSTM)                  (None, 100)               100400    \n",
            "_________________________________________________________________\n",
            "dense (Dense)                (None, 4)                 404       \n",
            "=================================================================\n",
            "Total params: 400,804\n",
            "Trainable params: 400,804\n",
            "Non-trainable params: 0\n",
            "_________________________________________________________________\n"
          ],
          "name": "stdout"
        }
      ]
    },
    {
      "cell_type": "code",
      "metadata": {
        "id": "0v_H2VT4VEiE",
        "colab_type": "code",
        "colab": {}
      },
      "source": [
        "earlystop = EarlyStopping(monitor='val_loss',patience=3)"
      ],
      "execution_count": 54,
      "outputs": []
    },
    {
      "cell_type": "code",
      "metadata": {
        "id": "QQQdyQ0KVqpr",
        "colab_type": "code",
        "colab": {
          "base_uri": "https://localhost:8080/",
          "height": 646
        },
        "outputId": "15b7d6ee-a672-4bcd-9016-f04ed6208a65"
      },
      "source": [
        "model.fit(X,y,batch_size=64,epochs=20,callbacks=[earlystop],validation_split=0.2)"
      ],
      "execution_count": 55,
      "outputs": [
        {
          "output_type": "stream",
          "text": [
            "Epoch 1/20\n",
            "8/8 [==============================] - 1s 81ms/step - loss: 1.3464 - accuracy: 0.5305 - val_loss: 1.2941 - val_accuracy: 0.5161\n",
            "Epoch 2/20\n",
            "8/8 [==============================] - 0s 33ms/step - loss: 1.1866 - accuracy: 0.5854 - val_loss: 1.2235 - val_accuracy: 0.5161\n",
            "Epoch 3/20\n",
            "8/8 [==============================] - 0s 33ms/step - loss: 1.0589 - accuracy: 0.5854 - val_loss: 1.1432 - val_accuracy: 0.5161\n",
            "Epoch 4/20\n",
            "8/8 [==============================] - 0s 32ms/step - loss: 0.9871 - accuracy: 0.5854 - val_loss: 1.1542 - val_accuracy: 0.5161\n",
            "Epoch 5/20\n",
            "8/8 [==============================] - 0s 33ms/step - loss: 0.9027 - accuracy: 0.6098 - val_loss: 1.0179 - val_accuracy: 0.5645\n",
            "Epoch 6/20\n",
            "8/8 [==============================] - 0s 36ms/step - loss: 0.7753 - accuracy: 0.7073 - val_loss: 0.9042 - val_accuracy: 0.6613\n",
            "Epoch 7/20\n",
            "8/8 [==============================] - 0s 33ms/step - loss: 0.6112 - accuracy: 0.7785 - val_loss: 0.7910 - val_accuracy: 0.6774\n",
            "Epoch 8/20\n",
            "8/8 [==============================] - 0s 32ms/step - loss: 0.4614 - accuracy: 0.8110 - val_loss: 0.6430 - val_accuracy: 0.7339\n",
            "Epoch 9/20\n",
            "8/8 [==============================] - 0s 32ms/step - loss: 0.3376 - accuracy: 0.9004 - val_loss: 0.7469 - val_accuracy: 0.7177\n",
            "Epoch 10/20\n",
            "8/8 [==============================] - 0s 31ms/step - loss: 0.2493 - accuracy: 0.9289 - val_loss: 0.5266 - val_accuracy: 0.7823\n",
            "Epoch 11/20\n",
            "8/8 [==============================] - 0s 31ms/step - loss: 0.1513 - accuracy: 0.9553 - val_loss: 0.5955 - val_accuracy: 0.7661\n",
            "Epoch 12/20\n",
            "8/8 [==============================] - 0s 33ms/step - loss: 0.1712 - accuracy: 0.9472 - val_loss: 0.5694 - val_accuracy: 0.7581\n",
            "Epoch 13/20\n",
            "8/8 [==============================] - 0s 31ms/step - loss: 0.1315 - accuracy: 0.9675 - val_loss: 0.4766 - val_accuracy: 0.8468\n",
            "Epoch 14/20\n",
            "8/8 [==============================] - 0s 30ms/step - loss: 0.0732 - accuracy: 0.9817 - val_loss: 0.6242 - val_accuracy: 0.7903\n",
            "Epoch 15/20\n",
            "8/8 [==============================] - 0s 31ms/step - loss: 0.0829 - accuracy: 0.9776 - val_loss: 0.4732 - val_accuracy: 0.8387\n",
            "Epoch 16/20\n",
            "8/8 [==============================] - 0s 33ms/step - loss: 0.0568 - accuracy: 0.9858 - val_loss: 0.5528 - val_accuracy: 0.8145\n",
            "Epoch 17/20\n",
            "8/8 [==============================] - 0s 30ms/step - loss: 0.0462 - accuracy: 0.9898 - val_loss: 0.6853 - val_accuracy: 0.8065\n",
            "Epoch 18/20\n",
            "8/8 [==============================] - 0s 32ms/step - loss: 0.0547 - accuracy: 0.9878 - val_loss: 0.5214 - val_accuracy: 0.8468\n"
          ],
          "name": "stdout"
        },
        {
          "output_type": "execute_result",
          "data": {
            "text/plain": [
              "<tensorflow.python.keras.callbacks.History at 0x7faa2f2b23c8>"
            ]
          },
          "metadata": {
            "tags": []
          },
          "execution_count": 55
        }
      ]
    },
    {
      "cell_type": "code",
      "metadata": {
        "id": "NShGg0CsZB1t",
        "colab_type": "code",
        "colab": {
          "base_uri": "https://localhost:8080/",
          "height": 607
        },
        "outputId": "b9b6d561-c779-48d6-8cb4-06621198e508"
      },
      "source": [
        "hist = pd.DataFrame(model.history.history)\n",
        "hist"
      ],
      "execution_count": 56,
      "outputs": [
        {
          "output_type": "execute_result",
          "data": {
            "text/html": [
              "<div>\n",
              "<style scoped>\n",
              "    .dataframe tbody tr th:only-of-type {\n",
              "        vertical-align: middle;\n",
              "    }\n",
              "\n",
              "    .dataframe tbody tr th {\n",
              "        vertical-align: top;\n",
              "    }\n",
              "\n",
              "    .dataframe thead th {\n",
              "        text-align: right;\n",
              "    }\n",
              "</style>\n",
              "<table border=\"1\" class=\"dataframe\">\n",
              "  <thead>\n",
              "    <tr style=\"text-align: right;\">\n",
              "      <th></th>\n",
              "      <th>loss</th>\n",
              "      <th>accuracy</th>\n",
              "      <th>val_loss</th>\n",
              "      <th>val_accuracy</th>\n",
              "    </tr>\n",
              "  </thead>\n",
              "  <tbody>\n",
              "    <tr>\n",
              "      <th>0</th>\n",
              "      <td>1.346442</td>\n",
              "      <td>0.530488</td>\n",
              "      <td>1.294106</td>\n",
              "      <td>0.516129</td>\n",
              "    </tr>\n",
              "    <tr>\n",
              "      <th>1</th>\n",
              "      <td>1.186607</td>\n",
              "      <td>0.585366</td>\n",
              "      <td>1.223457</td>\n",
              "      <td>0.516129</td>\n",
              "    </tr>\n",
              "    <tr>\n",
              "      <th>2</th>\n",
              "      <td>1.058866</td>\n",
              "      <td>0.585366</td>\n",
              "      <td>1.143156</td>\n",
              "      <td>0.516129</td>\n",
              "    </tr>\n",
              "    <tr>\n",
              "      <th>3</th>\n",
              "      <td>0.987106</td>\n",
              "      <td>0.585366</td>\n",
              "      <td>1.154239</td>\n",
              "      <td>0.516129</td>\n",
              "    </tr>\n",
              "    <tr>\n",
              "      <th>4</th>\n",
              "      <td>0.902687</td>\n",
              "      <td>0.609756</td>\n",
              "      <td>1.017892</td>\n",
              "      <td>0.564516</td>\n",
              "    </tr>\n",
              "    <tr>\n",
              "      <th>5</th>\n",
              "      <td>0.775281</td>\n",
              "      <td>0.707317</td>\n",
              "      <td>0.904236</td>\n",
              "      <td>0.661290</td>\n",
              "    </tr>\n",
              "    <tr>\n",
              "      <th>6</th>\n",
              "      <td>0.611202</td>\n",
              "      <td>0.778455</td>\n",
              "      <td>0.791040</td>\n",
              "      <td>0.677419</td>\n",
              "    </tr>\n",
              "    <tr>\n",
              "      <th>7</th>\n",
              "      <td>0.461441</td>\n",
              "      <td>0.810976</td>\n",
              "      <td>0.642978</td>\n",
              "      <td>0.733871</td>\n",
              "    </tr>\n",
              "    <tr>\n",
              "      <th>8</th>\n",
              "      <td>0.337572</td>\n",
              "      <td>0.900406</td>\n",
              "      <td>0.746895</td>\n",
              "      <td>0.717742</td>\n",
              "    </tr>\n",
              "    <tr>\n",
              "      <th>9</th>\n",
              "      <td>0.249270</td>\n",
              "      <td>0.928862</td>\n",
              "      <td>0.526638</td>\n",
              "      <td>0.782258</td>\n",
              "    </tr>\n",
              "    <tr>\n",
              "      <th>10</th>\n",
              "      <td>0.151333</td>\n",
              "      <td>0.955285</td>\n",
              "      <td>0.595535</td>\n",
              "      <td>0.766129</td>\n",
              "    </tr>\n",
              "    <tr>\n",
              "      <th>11</th>\n",
              "      <td>0.171241</td>\n",
              "      <td>0.947154</td>\n",
              "      <td>0.569401</td>\n",
              "      <td>0.758065</td>\n",
              "    </tr>\n",
              "    <tr>\n",
              "      <th>12</th>\n",
              "      <td>0.131537</td>\n",
              "      <td>0.967480</td>\n",
              "      <td>0.476598</td>\n",
              "      <td>0.846774</td>\n",
              "    </tr>\n",
              "    <tr>\n",
              "      <th>13</th>\n",
              "      <td>0.073156</td>\n",
              "      <td>0.981707</td>\n",
              "      <td>0.624218</td>\n",
              "      <td>0.790323</td>\n",
              "    </tr>\n",
              "    <tr>\n",
              "      <th>14</th>\n",
              "      <td>0.082914</td>\n",
              "      <td>0.977642</td>\n",
              "      <td>0.473170</td>\n",
              "      <td>0.838710</td>\n",
              "    </tr>\n",
              "    <tr>\n",
              "      <th>15</th>\n",
              "      <td>0.056764</td>\n",
              "      <td>0.985772</td>\n",
              "      <td>0.552761</td>\n",
              "      <td>0.814516</td>\n",
              "    </tr>\n",
              "    <tr>\n",
              "      <th>16</th>\n",
              "      <td>0.046206</td>\n",
              "      <td>0.989837</td>\n",
              "      <td>0.685286</td>\n",
              "      <td>0.806452</td>\n",
              "    </tr>\n",
              "    <tr>\n",
              "      <th>17</th>\n",
              "      <td>0.054719</td>\n",
              "      <td>0.987805</td>\n",
              "      <td>0.521376</td>\n",
              "      <td>0.846774</td>\n",
              "    </tr>\n",
              "  </tbody>\n",
              "</table>\n",
              "</div>"
            ],
            "text/plain": [
              "        loss  accuracy  val_loss  val_accuracy\n",
              "0   1.346442  0.530488  1.294106      0.516129\n",
              "1   1.186607  0.585366  1.223457      0.516129\n",
              "2   1.058866  0.585366  1.143156      0.516129\n",
              "3   0.987106  0.585366  1.154239      0.516129\n",
              "4   0.902687  0.609756  1.017892      0.564516\n",
              "5   0.775281  0.707317  0.904236      0.661290\n",
              "6   0.611202  0.778455  0.791040      0.677419\n",
              "7   0.461441  0.810976  0.642978      0.733871\n",
              "8   0.337572  0.900406  0.746895      0.717742\n",
              "9   0.249270  0.928862  0.526638      0.782258\n",
              "10  0.151333  0.955285  0.595535      0.766129\n",
              "11  0.171241  0.947154  0.569401      0.758065\n",
              "12  0.131537  0.967480  0.476598      0.846774\n",
              "13  0.073156  0.981707  0.624218      0.790323\n",
              "14  0.082914  0.977642  0.473170      0.838710\n",
              "15  0.056764  0.985772  0.552761      0.814516\n",
              "16  0.046206  0.989837  0.685286      0.806452\n",
              "17  0.054719  0.987805  0.521376      0.846774"
            ]
          },
          "metadata": {
            "tags": []
          },
          "execution_count": 56
        }
      ]
    },
    {
      "cell_type": "code",
      "metadata": {
        "id": "j7XbvaDhtm1G",
        "colab_type": "code",
        "colab": {}
      },
      "source": [
        "#model.save('text_classifier.h5')"
      ],
      "execution_count": 57,
      "outputs": []
    },
    {
      "cell_type": "code",
      "metadata": {
        "id": "f_DdyIQPoStX",
        "colab_type": "code",
        "colab": {}
      },
      "source": [
        "test_data = pd.read_csv(Test_data)"
      ],
      "execution_count": 58,
      "outputs": []
    },
    {
      "cell_type": "code",
      "metadata": {
        "id": "QeUXGRS5qwfW",
        "colab_type": "code",
        "colab": {
          "base_uri": "https://localhost:8080/",
          "height": 204
        },
        "outputId": "f859e6fb-0438-48ca-b1f0-070044398625"
      },
      "source": [
        "test_data.head()"
      ],
      "execution_count": 59,
      "outputs": [
        {
          "output_type": "execute_result",
          "data": {
            "text/html": [
              "<div>\n",
              "<style scoped>\n",
              "    .dataframe tbody tr th:only-of-type {\n",
              "        vertical-align: middle;\n",
              "    }\n",
              "\n",
              "    .dataframe tbody tr th {\n",
              "        vertical-align: top;\n",
              "    }\n",
              "\n",
              "    .dataframe thead th {\n",
              "        text-align: right;\n",
              "    }\n",
              "</style>\n",
              "<table border=\"1\" class=\"dataframe\">\n",
              "  <thead>\n",
              "    <tr style=\"text-align: right;\">\n",
              "      <th></th>\n",
              "      <th>ID</th>\n",
              "      <th>text</th>\n",
              "    </tr>\n",
              "  </thead>\n",
              "  <tbody>\n",
              "    <tr>\n",
              "      <th>0</th>\n",
              "      <td>02V56KMO</td>\n",
              "      <td>How to overcome bad feelings and emotions</td>\n",
              "    </tr>\n",
              "    <tr>\n",
              "      <th>1</th>\n",
              "      <td>03BMGTOK</td>\n",
              "      <td>I feel like giving up in life</td>\n",
              "    </tr>\n",
              "    <tr>\n",
              "      <th>2</th>\n",
              "      <td>03LZVFM6</td>\n",
              "      <td>I was so depressed feel like got no strength t...</td>\n",
              "    </tr>\n",
              "    <tr>\n",
              "      <th>3</th>\n",
              "      <td>0EPULUM5</td>\n",
              "      <td>I feel so low especially since I had no one to...</td>\n",
              "    </tr>\n",
              "    <tr>\n",
              "      <th>4</th>\n",
              "      <td>0GM4C5GD</td>\n",
              "      <td>can i be successful when I am a drug addict?</td>\n",
              "    </tr>\n",
              "  </tbody>\n",
              "</table>\n",
              "</div>"
            ],
            "text/plain": [
              "         ID                                               text\n",
              "0  02V56KMO          How to overcome bad feelings and emotions\n",
              "1  03BMGTOK                     I feel like giving up in life \n",
              "2  03LZVFM6  I was so depressed feel like got no strength t...\n",
              "3  0EPULUM5  I feel so low especially since I had no one to...\n",
              "4  0GM4C5GD       can i be successful when I am a drug addict?"
            ]
          },
          "metadata": {
            "tags": []
          },
          "execution_count": 59
        }
      ]
    },
    {
      "cell_type": "code",
      "metadata": {
        "id": "O5RPsb7GdmfB",
        "colab_type": "code",
        "colab": {}
      },
      "source": [
        "# A function that classifies input texts \n",
        "def predict(data):\n",
        "  X_test = data['text'].tolist()\n",
        "  predictions = []\n",
        "  for i in X_test:\n",
        "    X_test_tokens = np.array(tokenizer.texts_to_sequences(X_test))\n",
        "    X_test_pad = pad_sequences(X_test_tokens, maxlen=token_length.max())\n",
        "    predictions.append(model.predict(X_test_pad))\n",
        "    return predictions"
      ],
      "execution_count": 60,
      "outputs": []
    },
    {
      "cell_type": "code",
      "metadata": {
        "id": "d6iP9ouO2cG7",
        "colab_type": "code",
        "colab": {
          "base_uri": "https://localhost:8080/",
          "height": 153
        },
        "outputId": "c8741687-e62f-40c7-8b15-90b915e92cfe"
      },
      "source": [
        "results = predict(test_data)\n",
        "results = np.array(results)\n",
        "results.reshape(-1,4)"
      ],
      "execution_count": 61,
      "outputs": [
        {
          "output_type": "execute_result",
          "data": {
            "text/plain": [
              "array([[8.3217484e-01, 6.0517527e-02, 7.7678664e-03, 9.9539809e-02],\n",
              "       [8.0081023e-05, 9.9688405e-01, 4.3684740e-05, 2.9921469e-03],\n",
              "       [4.1417003e-09, 9.9999893e-01, 8.7050243e-09, 1.1062846e-06],\n",
              "       ...,\n",
              "       [2.7348796e-01, 1.4965136e-01, 1.1424385e-02, 5.6543630e-01],\n",
              "       [7.0125475e-03, 2.4276772e-03, 9.7722238e-01, 1.3337379e-02],\n",
              "       [9.9977928e-01, 3.0526905e-06, 2.1241201e-05, 1.9635752e-04]],\n",
              "      dtype=float32)"
            ]
          },
          "metadata": {
            "tags": []
          },
          "execution_count": 61
        }
      ]
    },
    {
      "cell_type": "code",
      "metadata": {
        "id": "ZOr0flaKcQwd",
        "colab_type": "code",
        "colab": {
          "base_uri": "https://localhost:8080/",
          "height": 669
        },
        "outputId": "64af0e71-9fd4-4012-882b-ea228b46974b"
      },
      "source": [
        "# Representation of the model prediction\n",
        "\n",
        "test_data['Alcohol']=results[0][:,0]\n",
        "test_data['Depression']=results[0][:,1]\n",
        "test_data['Drugs']=results[0][:,2]\n",
        "test_data['Suicide']=results[0][:,3]\n",
        "test_data.head(20)"
      ],
      "execution_count": 62,
      "outputs": [
        {
          "output_type": "execute_result",
          "data": {
            "text/html": [
              "<div>\n",
              "<style scoped>\n",
              "    .dataframe tbody tr th:only-of-type {\n",
              "        vertical-align: middle;\n",
              "    }\n",
              "\n",
              "    .dataframe tbody tr th {\n",
              "        vertical-align: top;\n",
              "    }\n",
              "\n",
              "    .dataframe thead th {\n",
              "        text-align: right;\n",
              "    }\n",
              "</style>\n",
              "<table border=\"1\" class=\"dataframe\">\n",
              "  <thead>\n",
              "    <tr style=\"text-align: right;\">\n",
              "      <th></th>\n",
              "      <th>ID</th>\n",
              "      <th>text</th>\n",
              "      <th>Alcohol</th>\n",
              "      <th>Depression</th>\n",
              "      <th>Drugs</th>\n",
              "      <th>Suicide</th>\n",
              "    </tr>\n",
              "  </thead>\n",
              "  <tbody>\n",
              "    <tr>\n",
              "      <th>0</th>\n",
              "      <td>02V56KMO</td>\n",
              "      <td>How to overcome bad feelings and emotions</td>\n",
              "      <td>8.321748e-01</td>\n",
              "      <td>6.051753e-02</td>\n",
              "      <td>7.767866e-03</td>\n",
              "      <td>9.953981e-02</td>\n",
              "    </tr>\n",
              "    <tr>\n",
              "      <th>1</th>\n",
              "      <td>03BMGTOK</td>\n",
              "      <td>I feel like giving up in life</td>\n",
              "      <td>8.008102e-05</td>\n",
              "      <td>9.968840e-01</td>\n",
              "      <td>4.368474e-05</td>\n",
              "      <td>2.992147e-03</td>\n",
              "    </tr>\n",
              "    <tr>\n",
              "      <th>2</th>\n",
              "      <td>03LZVFM6</td>\n",
              "      <td>I was so depressed feel like got no strength t...</td>\n",
              "      <td>4.141700e-09</td>\n",
              "      <td>9.999989e-01</td>\n",
              "      <td>8.705024e-09</td>\n",
              "      <td>1.106285e-06</td>\n",
              "    </tr>\n",
              "    <tr>\n",
              "      <th>3</th>\n",
              "      <td>0EPULUM5</td>\n",
              "      <td>I feel so low especially since I had no one to...</td>\n",
              "      <td>1.620672e-16</td>\n",
              "      <td>1.000000e+00</td>\n",
              "      <td>6.606455e-13</td>\n",
              "      <td>1.603879e-08</td>\n",
              "    </tr>\n",
              "    <tr>\n",
              "      <th>4</th>\n",
              "      <td>0GM4C5GD</td>\n",
              "      <td>can i be successful when I am a drug addict?</td>\n",
              "      <td>9.534103e-01</td>\n",
              "      <td>1.724767e-04</td>\n",
              "      <td>4.334991e-02</td>\n",
              "      <td>3.067304e-03</td>\n",
              "    </tr>\n",
              "    <tr>\n",
              "      <th>5</th>\n",
              "      <td>0IYM8BYT</td>\n",
              "      <td>I am dissapointed,I need a sense of closure</td>\n",
              "      <td>1.749164e-03</td>\n",
              "      <td>9.905530e-01</td>\n",
              "      <td>8.010516e-04</td>\n",
              "      <td>6.896839e-03</td>\n",
              "    </tr>\n",
              "    <tr>\n",
              "      <th>6</th>\n",
              "      <td>0JFJVD28</td>\n",
              "      <td>I lost hope</td>\n",
              "      <td>1.971153e-02</td>\n",
              "      <td>9.429354e-01</td>\n",
              "      <td>4.804404e-03</td>\n",
              "      <td>3.254862e-02</td>\n",
              "    </tr>\n",
              "    <tr>\n",
              "      <th>7</th>\n",
              "      <td>0OZGUFOF</td>\n",
              "      <td>I feel unloved and uncared for</td>\n",
              "      <td>1.095594e-04</td>\n",
              "      <td>9.990888e-01</td>\n",
              "      <td>3.965763e-05</td>\n",
              "      <td>7.620367e-04</td>\n",
              "    </tr>\n",
              "    <tr>\n",
              "      <th>8</th>\n",
              "      <td>0WP999ZX</td>\n",
              "      <td>What are factors that leads to addiction of al...</td>\n",
              "      <td>9.998599e-01</td>\n",
              "      <td>2.924258e-08</td>\n",
              "      <td>1.366360e-04</td>\n",
              "      <td>3.374720e-06</td>\n",
              "    </tr>\n",
              "    <tr>\n",
              "      <th>9</th>\n",
              "      <td>0ZA45Y5F</td>\n",
              "      <td>Is the advice of drinking moderatly ,prudent?</td>\n",
              "      <td>4.967166e-01</td>\n",
              "      <td>4.057189e-01</td>\n",
              "      <td>1.498375e-02</td>\n",
              "      <td>8.258078e-02</td>\n",
              "    </tr>\n",
              "    <tr>\n",
              "      <th>10</th>\n",
              "      <td>13V2N1XF</td>\n",
              "      <td>How to limit myself from getting regular depre...</td>\n",
              "      <td>7.205372e-08</td>\n",
              "      <td>9.999889e-01</td>\n",
              "      <td>9.007102e-08</td>\n",
              "      <td>1.090530e-05</td>\n",
              "    </tr>\n",
              "    <tr>\n",
              "      <th>11</th>\n",
              "      <td>16THDEEP</td>\n",
              "      <td>I needed to know whether the alcohol releases ...</td>\n",
              "      <td>9.998697e-01</td>\n",
              "      <td>2.666323e-05</td>\n",
              "      <td>1.159044e-05</td>\n",
              "      <td>9.204364e-05</td>\n",
              "    </tr>\n",
              "    <tr>\n",
              "      <th>12</th>\n",
              "      <td>1AU3C3HI</td>\n",
              "      <td>I was sad and did not want to go out</td>\n",
              "      <td>4.893982e-10</td>\n",
              "      <td>9.999988e-01</td>\n",
              "      <td>2.691008e-09</td>\n",
              "      <td>1.208435e-06</td>\n",
              "    </tr>\n",
              "    <tr>\n",
              "      <th>13</th>\n",
              "      <td>1D7TE9IY</td>\n",
              "      <td>Am I that ugly</td>\n",
              "      <td>7.679758e-02</td>\n",
              "      <td>8.553874e-01</td>\n",
              "      <td>1.147035e-02</td>\n",
              "      <td>5.634468e-02</td>\n",
              "    </tr>\n",
              "    <tr>\n",
              "      <th>14</th>\n",
              "      <td>1MHNW745</td>\n",
              "      <td>How should I avoid alcohol intake? what are th...</td>\n",
              "      <td>1.000000e+00</td>\n",
              "      <td>2.176413e-25</td>\n",
              "      <td>3.846637e-21</td>\n",
              "      <td>5.658898e-14</td>\n",
              "    </tr>\n",
              "    <tr>\n",
              "      <th>15</th>\n",
              "      <td>1TZY1GIP</td>\n",
              "      <td>I was pale and lost appetite</td>\n",
              "      <td>1.443991e-03</td>\n",
              "      <td>9.903086e-01</td>\n",
              "      <td>5.145511e-04</td>\n",
              "      <td>7.732821e-03</td>\n",
              "    </tr>\n",
              "    <tr>\n",
              "      <th>16</th>\n",
              "      <td>1ZTKVYXC</td>\n",
              "      <td>I am going through loss of a loved one…I am go...</td>\n",
              "      <td>2.917951e-03</td>\n",
              "      <td>9.853720e-01</td>\n",
              "      <td>1.077750e-03</td>\n",
              "      <td>1.063228e-02</td>\n",
              "    </tr>\n",
              "    <tr>\n",
              "      <th>17</th>\n",
              "      <td>22L09P4C</td>\n",
              "      <td>What are the effects of bhang?</td>\n",
              "      <td>4.142042e-01</td>\n",
              "      <td>2.109388e-05</td>\n",
              "      <td>5.804179e-01</td>\n",
              "      <td>5.356814e-03</td>\n",
              "    </tr>\n",
              "    <tr>\n",
              "      <th>18</th>\n",
              "      <td>23C43VXB</td>\n",
              "      <td>Depressed due to the loss of a relative</td>\n",
              "      <td>1.128857e-04</td>\n",
              "      <td>9.982578e-01</td>\n",
              "      <td>9.157819e-05</td>\n",
              "      <td>1.537724e-03</td>\n",
              "    </tr>\n",
              "    <tr>\n",
              "      <th>19</th>\n",
              "      <td>255YNCPV</td>\n",
              "      <td>Why me?, why so?, why now?</td>\n",
              "      <td>2.509119e-02</td>\n",
              "      <td>2.230680e-01</td>\n",
              "      <td>1.070415e-01</td>\n",
              "      <td>6.447994e-01</td>\n",
              "    </tr>\n",
              "  </tbody>\n",
              "</table>\n",
              "</div>"
            ],
            "text/plain": [
              "          ID  ...       Suicide\n",
              "0   02V56KMO  ...  9.953981e-02\n",
              "1   03BMGTOK  ...  2.992147e-03\n",
              "2   03LZVFM6  ...  1.106285e-06\n",
              "3   0EPULUM5  ...  1.603879e-08\n",
              "4   0GM4C5GD  ...  3.067304e-03\n",
              "5   0IYM8BYT  ...  6.896839e-03\n",
              "6   0JFJVD28  ...  3.254862e-02\n",
              "7   0OZGUFOF  ...  7.620367e-04\n",
              "8   0WP999ZX  ...  3.374720e-06\n",
              "9   0ZA45Y5F  ...  8.258078e-02\n",
              "10  13V2N1XF  ...  1.090530e-05\n",
              "11  16THDEEP  ...  9.204364e-05\n",
              "12  1AU3C3HI  ...  1.208435e-06\n",
              "13  1D7TE9IY  ...  5.634468e-02\n",
              "14  1MHNW745  ...  5.658898e-14\n",
              "15  1TZY1GIP  ...  7.732821e-03\n",
              "16  1ZTKVYXC  ...  1.063228e-02\n",
              "17  22L09P4C  ...  5.356814e-03\n",
              "18  23C43VXB  ...  1.537724e-03\n",
              "19  255YNCPV  ...  6.447994e-01\n",
              "\n",
              "[20 rows x 6 columns]"
            ]
          },
          "metadata": {
            "tags": []
          },
          "execution_count": 62
        }
      ]
    },
    {
      "cell_type": "code",
      "metadata": {
        "id": "WszT_8jHsxo8",
        "colab_type": "code",
        "colab": {}
      },
      "source": [
        ""
      ],
      "execution_count": 62,
      "outputs": []
    }
  ]
}